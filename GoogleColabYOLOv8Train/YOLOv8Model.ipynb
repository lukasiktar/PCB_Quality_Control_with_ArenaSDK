{
  "cells": [
    {
      "cell_type": "markdown",
      "metadata": {
        "id": "view-in-github",
        "colab_type": "text"
      },
      "source": [
        "<a href=\"https://colab.research.google.com/github/robosiki/PCB_Quality_Control_with_ArenaSDK/blob/master/YOLOv8Model.ipynb\" target=\"_parent\"><img src=\"https://colab.research.google.com/assets/colab-badge.svg\" alt=\"Open In Colab\"/></a>"
      ]
    },
    {
      "cell_type": "code",
      "execution_count": null,
      "metadata": {
        "id": "8hK2RGhmHjTm"
      },
      "outputs": [],
      "source": [
        "#Provjera je li postoji dostupan Colab GPU:\n",
        "!nvidia-smi"
      ]
    },
    {
      "cell_type": "code",
      "execution_count": null,
      "metadata": {
        "id": "hlc4BipwIHGS"
      },
      "outputs": [],
      "source": [
        "#Instalacija YOLOv8:\n",
        "!pip install ultralytics"
      ]
    },
    {
      "cell_type": "code",
      "execution_count": null,
      "metadata": {
        "id": "57qoHvX7IUmV"
      },
      "outputs": [],
      "source": [
        "from ultralytics import YOLO\n",
        "import os\n",
        "from IPython.display import display, Image\n",
        "from IPython import display\n",
        "display.clear_output()\n",
        "!yolo checks"
      ]
    },
    {
      "cell_type": "markdown",
      "metadata": {
        "id": "tf-KLagrJFD-"
      },
      "source": [
        "Trening na custom datasetu"
      ]
    },
    {
      "cell_type": "code",
      "execution_count": null,
      "metadata": {
        "id": "3pDyCfRQZv7Y"
      },
      "outputs": [],
      "source": [
        "!pip install roboflow\n",
        "\n",
        "from roboflow import Roboflow"
      ]
    },
    {
      "cell_type": "code",
      "execution_count": null,
      "metadata": {
        "id": "PBUWE6HgJJUg"
      },
      "outputs": [],
      "source": [
        "#Preuzimanje seta podataka\n",
        "rf = Roboflow(api_key=\"mU2iaE72fae171SFhhsl\")\n",
        "project = rf.workspace(\"fmena-dwmmh\").project(\"pcb_detector_main_v02\")\n",
        "dataset = project.version(2).download(\"yolov5-obb\")"
      ]
    },
    {
      "cell_type": "markdown",
      "metadata": {
        "id": "l442_QDZD7Eh"
      },
      "source": [
        "#Training:"
      ]
    },
    {
      "cell_type": "code",
      "execution_count": null,
      "metadata": {
        "id": "X3tWHhGpniFK"
      },
      "outputs": [],
      "source": [
        "#Ako nije podržana najnovija verzija:\n",
        "!pip install ultralytics==8.0.196"
      ]
    },
    {
      "cell_type": "code",
      "execution_count": null,
      "metadata": {
        "id": "lj6-Pz10KHej"
      },
      "outputs": [],
      "source": [
        "#Trening YOLOv8 modela\n",
        "!yolo task=detect mode=train model=yolov8m.pt data={dataset.location}/data.yaml epochs=100 patience=4 batch=16 imgsz=640 plots=True"
      ]
    },
    {
      "cell_type": "code",
      "execution_count": null,
      "metadata": {
        "id": "ivH6Xq60S884"
      },
      "outputs": [],
      "source": [
        "#Confusion matrix\n",
        "Image(filename='runs/detect/train/confusion_matrix.png', width=800)"
      ]
    },
    {
      "cell_type": "code",
      "execution_count": null,
      "metadata": {
        "id": "fVWyFT9UTjcd"
      },
      "outputs": [],
      "source": [
        "#Prikaz grafova rezultata treninga\n",
        "Image(filename='runs/detect/train/results.png', width=1000)"
      ]
    },
    {
      "cell_type": "code",
      "execution_count": null,
      "metadata": {
        "id": "DxA2v1DHTwx2"
      },
      "outputs": [],
      "source": [
        "#Prikaz detekcije nad slikama trening seta podataka\n",
        "Image(filename='runs/detect/train/val_batch0_pred.jpg', width=1200)"
      ]
    },
    {
      "cell_type": "code",
      "execution_count": null,
      "metadata": {
        "id": "0Wfu8exRUA7s"
      },
      "outputs": [],
      "source": [
        "#Validacijski rezultati\n",
        "!yolo task=detect mode=val model=runs/detect/train/weights/best.pt data={dataset.location}/data.yaml"
      ]
    },
    {
      "cell_type": "code",
      "execution_count": null,
      "metadata": {
        "id": "o_yT3Tq_UL3u"
      },
      "outputs": [],
      "source": [
        "#Testiranje\n",
        "!yolo task=detect mode=predict model=runs/detect/train/weights/best.pt conf=0.7 source={dataset.location}/test/images save=True"
      ]
    },
    {
      "cell_type": "code",
      "execution_count": null,
      "metadata": {
        "id": "5IFoopLOUUEi"
      },
      "outputs": [],
      "source": [
        "#Prikaz rezultata testiranja\n",
        "import glob\n",
        "from IPython.display import Image, display\n",
        "\n",
        "for image_path in glob.glob('runs/detect/predict/*.jpg')[:100]:\n",
        "      display(Image(filename=image_path, width=600))\n",
        "      print(\"\\n\")"
      ]
    },
    {
      "cell_type": "code",
      "execution_count": null,
      "metadata": {
        "id": "a0HFlA8NUvRz"
      },
      "outputs": [],
      "source": [
        "#download modela:\n",
        "from google.colab import files\n",
        "files.download('runs/detect/train/weights/best.pt')"
      ]
    },
    {
      "cell_type": "code",
      "execution_count": null,
      "metadata": {
        "id": "rsDysjIu-VFx"
      },
      "outputs": [],
      "source": [
        "#exporting ONNX modela:\n",
        "model = YOLO('runs/detect/train/weights/best.pt')\n",
        "model.export(format='onnx')"
      ]
    },
    {
      "cell_type": "code",
      "execution_count": null,
      "metadata": {
        "id": "x8VrSKBNDsnw"
      },
      "outputs": [],
      "source": [
        "#Create .txt file with classes\n",
        "with open(\"YOLOv8m_PCB_detection_main_classes.txt\",\"w\") as file:\n",
        "  for keys,values in model.names.items():\n",
        "    file.write(values)\n",
        "    file.write(\"\\n\")"
      ]
    },
    {
      "cell_type": "code",
      "execution_count": null,
      "metadata": {
        "colab": {
          "base_uri": "https://localhost:8080/",
          "height": 34
        },
        "id": "F7H-PVwC-7et",
        "outputId": "190b2726-32b3-457b-bd41-00dec358a8b9"
      },
      "outputs": [
        {
          "output_type": "display_data",
          "data": {
            "text/plain": [
              "<IPython.core.display.Javascript object>"
            ],
            "application/javascript": [
              "\n",
              "    async function download(id, filename, size) {\n",
              "      if (!google.colab.kernel.accessAllowed) {\n",
              "        return;\n",
              "      }\n",
              "      const div = document.createElement('div');\n",
              "      const label = document.createElement('label');\n",
              "      label.textContent = `Downloading \"${filename}\": `;\n",
              "      div.appendChild(label);\n",
              "      const progress = document.createElement('progress');\n",
              "      progress.max = size;\n",
              "      div.appendChild(progress);\n",
              "      document.body.appendChild(div);\n",
              "\n",
              "      const buffers = [];\n",
              "      let downloaded = 0;\n",
              "\n",
              "      const channel = await google.colab.kernel.comms.open(id);\n",
              "      // Send a message to notify the kernel that we're ready.\n",
              "      channel.send({})\n",
              "\n",
              "      for await (const message of channel.messages) {\n",
              "        // Send a message to notify the kernel that we're ready.\n",
              "        channel.send({})\n",
              "        if (message.buffers) {\n",
              "          for (const buffer of message.buffers) {\n",
              "            buffers.push(buffer);\n",
              "            downloaded += buffer.byteLength;\n",
              "            progress.value = downloaded;\n",
              "          }\n",
              "        }\n",
              "      }\n",
              "      const blob = new Blob(buffers, {type: 'application/binary'});\n",
              "      const a = document.createElement('a');\n",
              "      a.href = window.URL.createObjectURL(blob);\n",
              "      a.download = filename;\n",
              "      div.appendChild(a);\n",
              "      a.click();\n",
              "      div.remove();\n",
              "    }\n",
              "  "
            ]
          },
          "metadata": {}
        },
        {
          "output_type": "display_data",
          "data": {
            "text/plain": [
              "<IPython.core.display.Javascript object>"
            ],
            "application/javascript": [
              "download(\"download_8600de80-e4a8-4191-b569-37f40a3621ff\", \"best.onnx\", 103778529)"
            ]
          },
          "metadata": {}
        }
      ],
      "source": [
        "#download ONNX modela:\n",
        "from google.colab import files\n",
        "files.download('runs/detect/train/weights/best.onnx')"
      ]
    }
  ],
  "metadata": {
    "accelerator": "GPU",
    "colab": {
      "provenance": [],
      "gpuType": "T4",
      "mount_file_id": "1SsDbh-jV8DpvzdmEHZLGQMfzZU1qdBdq",
      "authorship_tag": "ABX9TyONgV8/SN6bwFT077ByfpaX",
      "include_colab_link": true
    },
    "kernelspec": {
      "display_name": "Python 3",
      "name": "python3"
    },
    "language_info": {
      "name": "python"
    }
  },
  "nbformat": 4,
  "nbformat_minor": 0
}